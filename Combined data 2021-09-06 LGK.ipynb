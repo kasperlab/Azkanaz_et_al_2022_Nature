{
 "cells": [
  {
   "cell_type": "markdown",
   "id": "6447ce4f",
   "metadata": {},
   "source": [
    "# Load packages"
   ]
  },
  {
   "cell_type": "code",
   "execution_count": 1,
   "id": "0d527dd4",
   "metadata": {
    "ExecuteTime": {
     "end_time": "2022-04-20T13:11:56.594050Z",
     "start_time": "2022-04-20T13:11:56.581849Z"
    }
   },
   "outputs": [
    {
     "name": "stderr",
     "output_type": "stream",
     "text": [
      "/tmp/ipykernel_2678/4155479159.py:1: DeprecationWarning: Importing display from IPython.core.display is deprecated since IPython 7.14, please import from IPython display\n",
      "  from IPython.core.display import display, HTML\n"
     ]
    },
    {
     "data": {
      "text/html": [
       "<style>.container { width:95% !important; }</style>"
      ],
      "text/plain": [
       "<IPython.core.display.HTML object>"
      ]
     },
     "metadata": {},
     "output_type": "display_data"
    }
   ],
   "source": [
    "from IPython.core.display import display, HTML\n",
    "import warnings\n",
    "display(HTML(\"<style>.container { width:95% !important; }</style>\"))\n",
    "warnings.filterwarnings('ignore')"
   ]
  },
  {
   "cell_type": "code",
   "execution_count": 2,
   "id": "2ce7feed",
   "metadata": {
    "ExecuteTime": {
     "end_time": "2022-04-20T13:14:57.504145Z",
     "start_time": "2022-04-20T13:14:57.501443Z"
    }
   },
   "outputs": [],
   "source": [
    "from IPython.display import clear_output\n",
    "import pandas as pd\n",
    "import numpy as np\n",
    "import seaborn as sbn\n",
    "import matplotlib.pyplot as plt\n",
    "import sys\n",
    "import os\n",
    "\n",
    "#sys.path.append('C:/Users/karlan/Google Drive/Python/Projects/Anna') #Folder that contains \"cell_tracking.py\" file\n",
    "#from cell_tracking import *\n",
    "\n",
    "path = '/mnt/z/CellTracking/Final/Analyzed data/LGK/'"
   ]
  },
  {
   "cell_type": "code",
   "execution_count": 3,
   "id": "33efbe8c",
   "metadata": {
    "ExecuteTime": {
     "end_time": "2022-04-20T13:13:43.992552Z",
     "start_time": "2022-04-20T13:13:43.889128Z"
    }
   },
   "outputs": [],
   "source": [
    "sys.path.append('/mnt/g/My Drive/Python/Projects/Anna')\n",
    "\n",
    "from cell_tracking_basic_v1 import *\n",
    "from cell_tracking_plotting_v1 import *"
   ]
  },
  {
   "cell_type": "markdown",
   "id": "fbbcddcf",
   "metadata": {},
   "source": [
    "## Package versions"
   ]
  },
  {
   "cell_type": "code",
   "execution_count": 4,
   "id": "a0d73c52",
   "metadata": {
    "ExecuteTime": {
     "end_time": "2022-04-20T13:13:53.665018Z",
     "start_time": "2022-04-20T13:13:53.662059Z"
    }
   },
   "outputs": [
    {
     "name": "stdout",
     "output_type": "stream",
     "text": [
      "json==2.0.9\n",
      "numpy==1.21.2\n",
      "pandas==1.4.1\n",
      "seaborn==0.11.2\n",
      "read_roi==1.6.0\n",
      "matplotlib==3.5.1\n"
     ]
    }
   ],
   "source": [
    "print('\\n'.join(f'{m.__name__}=={m.__version__}' for m in globals().values() if getattr(m, '__version__', None)))"
   ]
  },
  {
   "cell_type": "markdown",
   "id": "4df24aa8",
   "metadata": {},
   "source": [
    "# Combine datasets"
   ]
  },
  {
   "cell_type": "code",
   "execution_count": 5,
   "id": "b3615b1e",
   "metadata": {
    "ExecuteTime": {
     "end_time": "2022-04-20T13:14:44.593465Z",
     "start_time": "2022-04-20T13:14:44.590864Z"
    }
   },
   "outputs": [],
   "source": [
    "# Left here for information. In the main combining notebook this was used for additional annotation of the combined csv\n",
    "experiments = {\n",
    "    '20210521_LGK.csv': {'Name':'LGK', 'Start': 81, 'Crypt': 21},\n",
    "    '20210521_LGK_ctrl.csv': {'Name':'LGK_ctrl', 'Start': 81, 'Crypt': 23},\n",
    "    '20210702_LGK.csv': {'Name':'LGK', 'Start': 117, 'Crypt': 49},\n",
    "    '20210702_LGK_ctrl.csv': {'Name':'LGK_ctrl', 'Start': 117, 'Crypt': 30},\n",
    "    '20210709_LGK.csv': {'Name':'LGK', 'Start': 67, 'Crypt': 43},\n",
    "    '20210709_LGK_ctrl.csv': {'Name':'LGK_ctrl', 'Start': 67, 'Crypt': 33}\n",
    "}"
   ]
  },
  {
   "cell_type": "code",
   "execution_count": 6,
   "id": "11b634e3",
   "metadata": {
    "ExecuteTime": {
     "end_time": "2022-04-20T13:17:52.806689Z",
     "start_time": "2022-04-20T13:17:51.266144Z"
    }
   },
   "outputs": [],
   "source": [
    "cell_df = pd.concat([pd.read_csv(os.path.join(path, f), sep = ',') for f in experiments.keys()], keys = experiments.keys())\n",
    "cell_df = cell_df.reset_index(level = 0).rename(columns = {'level_0': 'Name'}).reset_index(drop = True)\n",
    "cell_df['Experiment'] = [experiments[f]['Name'] for f in cell_df['Name']]"
   ]
  },
  {
   "cell_type": "code",
   "execution_count": 7,
   "id": "272f8ce6",
   "metadata": {
    "ExecuteTime": {
     "end_time": "2022-04-20T13:17:53.484362Z",
     "start_time": "2022-04-20T13:17:53.464738Z"
    }
   },
   "outputs": [
    {
     "data": {
      "text/html": [
       "<div>\n",
       "<style scoped>\n",
       "    .dataframe tbody tr th:only-of-type {\n",
       "        vertical-align: middle;\n",
       "    }\n",
       "\n",
       "    .dataframe tbody tr th {\n",
       "        vertical-align: top;\n",
       "    }\n",
       "\n",
       "    .dataframe thead th {\n",
       "        text-align: right;\n",
       "    }\n",
       "</style>\n",
       "<table border=\"1\" class=\"dataframe\">\n",
       "  <thead>\n",
       "    <tr style=\"text-align: right;\">\n",
       "      <th></th>\n",
       "      <th>Name</th>\n",
       "      <th>ID</th>\n",
       "      <th>Label</th>\n",
       "      <th>TRACK_ID</th>\n",
       "      <th>QUALITY</th>\n",
       "      <th>POSITION_X</th>\n",
       "      <th>POSITION_Y</th>\n",
       "      <th>POSITION_Z</th>\n",
       "      <th>POSITION_T</th>\n",
       "      <th>FRAME</th>\n",
       "      <th>...</th>\n",
       "      <th>cumulative_distance_xyz</th>\n",
       "      <th>cumulative_distance_z</th>\n",
       "      <th>end_x</th>\n",
       "      <th>end_y</th>\n",
       "      <th>end_z</th>\n",
       "      <th>end_t</th>\n",
       "      <th>Live_dead</th>\n",
       "      <th>origin_class</th>\n",
       "      <th>end_class</th>\n",
       "      <th>Experiment</th>\n",
       "    </tr>\n",
       "  </thead>\n",
       "  <tbody>\n",
       "    <tr>\n",
       "      <th>0</th>\n",
       "      <td>20210521_LGK.csv</td>\n",
       "      <td>7602</td>\n",
       "      <td>ID7602</td>\n",
       "      <td>14</td>\n",
       "      <td>21.308</td>\n",
       "      <td>507.972</td>\n",
       "      <td>64.268</td>\n",
       "      <td>14.848</td>\n",
       "      <td>0</td>\n",
       "      <td>0</td>\n",
       "      <td>...</td>\n",
       "      <td>0.000000</td>\n",
       "      <td>0.000</td>\n",
       "      <td>520.111</td>\n",
       "      <td>658.826</td>\n",
       "      <td>21.23</td>\n",
       "      <td>238.0</td>\n",
       "      <td>Alive</td>\n",
       "      <td>crypt</td>\n",
       "      <td>crypt</td>\n",
       "      <td>LGK</td>\n",
       "    </tr>\n",
       "    <tr>\n",
       "      <th>1</th>\n",
       "      <td>20210521_LGK.csv</td>\n",
       "      <td>8594</td>\n",
       "      <td>ID8594</td>\n",
       "      <td>14</td>\n",
       "      <td>17.274</td>\n",
       "      <td>504.913</td>\n",
       "      <td>62.340</td>\n",
       "      <td>15.260</td>\n",
       "      <td>120</td>\n",
       "      <td>1</td>\n",
       "      <td>...</td>\n",
       "      <td>3.639287</td>\n",
       "      <td>0.412</td>\n",
       "      <td>520.111</td>\n",
       "      <td>658.826</td>\n",
       "      <td>21.23</td>\n",
       "      <td>238.0</td>\n",
       "      <td>Alive</td>\n",
       "      <td>crypt</td>\n",
       "      <td>crypt</td>\n",
       "      <td>LGK</td>\n",
       "    </tr>\n",
       "    <tr>\n",
       "      <th>2</th>\n",
       "      <td>20210521_LGK.csv</td>\n",
       "      <td>8706</td>\n",
       "      <td>ID8706</td>\n",
       "      <td>14</td>\n",
       "      <td>16.308</td>\n",
       "      <td>503.074</td>\n",
       "      <td>62.246</td>\n",
       "      <td>17.206</td>\n",
       "      <td>240</td>\n",
       "      <td>2</td>\n",
       "      <td>...</td>\n",
       "      <td>6.318405</td>\n",
       "      <td>2.358</td>\n",
       "      <td>520.111</td>\n",
       "      <td>658.826</td>\n",
       "      <td>21.23</td>\n",
       "      <td>238.0</td>\n",
       "      <td>Alive</td>\n",
       "      <td>crypt</td>\n",
       "      <td>crypt</td>\n",
       "      <td>LGK</td>\n",
       "    </tr>\n",
       "    <tr>\n",
       "      <th>3</th>\n",
       "      <td>20210521_LGK.csv</td>\n",
       "      <td>9049</td>\n",
       "      <td>ID9049</td>\n",
       "      <td>14</td>\n",
       "      <td>15.541</td>\n",
       "      <td>502.365</td>\n",
       "      <td>62.150</td>\n",
       "      <td>16.643</td>\n",
       "      <td>360</td>\n",
       "      <td>3</td>\n",
       "      <td>...</td>\n",
       "      <td>7.228826</td>\n",
       "      <td>2.921</td>\n",
       "      <td>520.111</td>\n",
       "      <td>658.826</td>\n",
       "      <td>21.23</td>\n",
       "      <td>238.0</td>\n",
       "      <td>Alive</td>\n",
       "      <td>crypt</td>\n",
       "      <td>crypt</td>\n",
       "      <td>LGK</td>\n",
       "    </tr>\n",
       "    <tr>\n",
       "      <th>4</th>\n",
       "      <td>20210521_LGK.csv</td>\n",
       "      <td>8196</td>\n",
       "      <td>ID8196</td>\n",
       "      <td>14</td>\n",
       "      <td>14.889</td>\n",
       "      <td>502.322</td>\n",
       "      <td>62.795</td>\n",
       "      <td>19.731</td>\n",
       "      <td>480</td>\n",
       "      <td>4</td>\n",
       "      <td>...</td>\n",
       "      <td>10.383761</td>\n",
       "      <td>6.009</td>\n",
       "      <td>520.111</td>\n",
       "      <td>658.826</td>\n",
       "      <td>21.23</td>\n",
       "      <td>238.0</td>\n",
       "      <td>Alive</td>\n",
       "      <td>crypt</td>\n",
       "      <td>crypt</td>\n",
       "      <td>LGK</td>\n",
       "    </tr>\n",
       "    <tr>\n",
       "      <th>...</th>\n",
       "      <td>...</td>\n",
       "      <td>...</td>\n",
       "      <td>...</td>\n",
       "      <td>...</td>\n",
       "      <td>...</td>\n",
       "      <td>...</td>\n",
       "      <td>...</td>\n",
       "      <td>...</td>\n",
       "      <td>...</td>\n",
       "      <td>...</td>\n",
       "      <td>...</td>\n",
       "      <td>...</td>\n",
       "      <td>...</td>\n",
       "      <td>...</td>\n",
       "      <td>...</td>\n",
       "      <td>...</td>\n",
       "      <td>...</td>\n",
       "      <td>...</td>\n",
       "      <td>...</td>\n",
       "      <td>...</td>\n",
       "      <td>...</td>\n",
       "    </tr>\n",
       "    <tr>\n",
       "      <th>54454</th>\n",
       "      <td>20210709_LGK_ctrl.csv</td>\n",
       "      <td>318544</td>\n",
       "      <td>ID318544</td>\n",
       "      <td>4539</td>\n",
       "      <td>-1.000</td>\n",
       "      <td>311.938</td>\n",
       "      <td>26.336</td>\n",
       "      <td>70.000</td>\n",
       "      <td>115</td>\n",
       "      <td>115</td>\n",
       "      <td>...</td>\n",
       "      <td>170.546531</td>\n",
       "      <td>47.500</td>\n",
       "      <td>312.173</td>\n",
       "      <td>692.790</td>\n",
       "      <td>70.00</td>\n",
       "      <td>238.0</td>\n",
       "      <td>Alive</td>\n",
       "      <td>crypt</td>\n",
       "      <td>crypt</td>\n",
       "      <td>LGK_ctrl</td>\n",
       "    </tr>\n",
       "    <tr>\n",
       "      <th>54455</th>\n",
       "      <td>20210709_LGK_ctrl.csv</td>\n",
       "      <td>318540</td>\n",
       "      <td>ID318540</td>\n",
       "      <td>4539</td>\n",
       "      <td>-1.000</td>\n",
       "      <td>310.300</td>\n",
       "      <td>25.049</td>\n",
       "      <td>70.000</td>\n",
       "      <td>116</td>\n",
       "      <td>116</td>\n",
       "      <td>...</td>\n",
       "      <td>172.629657</td>\n",
       "      <td>47.500</td>\n",
       "      <td>312.173</td>\n",
       "      <td>692.790</td>\n",
       "      <td>70.00</td>\n",
       "      <td>238.0</td>\n",
       "      <td>Alive</td>\n",
       "      <td>crypt</td>\n",
       "      <td>crypt</td>\n",
       "      <td>LGK_ctrl</td>\n",
       "    </tr>\n",
       "    <tr>\n",
       "      <th>54456</th>\n",
       "      <td>20210709_LGK_ctrl.csv</td>\n",
       "      <td>318536</td>\n",
       "      <td>ID318536</td>\n",
       "      <td>4539</td>\n",
       "      <td>-1.000</td>\n",
       "      <td>311.002</td>\n",
       "      <td>26.336</td>\n",
       "      <td>70.000</td>\n",
       "      <td>117</td>\n",
       "      <td>117</td>\n",
       "      <td>...</td>\n",
       "      <td>174.095663</td>\n",
       "      <td>47.500</td>\n",
       "      <td>312.173</td>\n",
       "      <td>692.790</td>\n",
       "      <td>70.00</td>\n",
       "      <td>238.0</td>\n",
       "      <td>Alive</td>\n",
       "      <td>crypt</td>\n",
       "      <td>crypt</td>\n",
       "      <td>LGK_ctrl</td>\n",
       "    </tr>\n",
       "    <tr>\n",
       "      <th>54457</th>\n",
       "      <td>20210709_LGK_ctrl.csv</td>\n",
       "      <td>318532</td>\n",
       "      <td>ID318532</td>\n",
       "      <td>4539</td>\n",
       "      <td>-1.000</td>\n",
       "      <td>310.300</td>\n",
       "      <td>25.751</td>\n",
       "      <td>70.000</td>\n",
       "      <td>118</td>\n",
       "      <td>118</td>\n",
       "      <td>...</td>\n",
       "      <td>175.009462</td>\n",
       "      <td>47.500</td>\n",
       "      <td>312.173</td>\n",
       "      <td>692.790</td>\n",
       "      <td>70.00</td>\n",
       "      <td>238.0</td>\n",
       "      <td>Alive</td>\n",
       "      <td>crypt</td>\n",
       "      <td>crypt</td>\n",
       "      <td>LGK_ctrl</td>\n",
       "    </tr>\n",
       "    <tr>\n",
       "      <th>54458</th>\n",
       "      <td>20210709_LGK_ctrl.csv</td>\n",
       "      <td>318528</td>\n",
       "      <td>ID318528</td>\n",
       "      <td>4539</td>\n",
       "      <td>-1.000</td>\n",
       "      <td>312.173</td>\n",
       "      <td>26.570</td>\n",
       "      <td>70.000</td>\n",
       "      <td>119</td>\n",
       "      <td>119</td>\n",
       "      <td>...</td>\n",
       "      <td>177.053696</td>\n",
       "      <td>47.500</td>\n",
       "      <td>312.173</td>\n",
       "      <td>692.790</td>\n",
       "      <td>70.00</td>\n",
       "      <td>238.0</td>\n",
       "      <td>Alive</td>\n",
       "      <td>crypt</td>\n",
       "      <td>crypt</td>\n",
       "      <td>LGK_ctrl</td>\n",
       "    </tr>\n",
       "  </tbody>\n",
       "</table>\n",
       "<p>54459 rows × 51 columns</p>\n",
       "</div>"
      ],
      "text/plain": [
       "                        Name      ID     Label  TRACK_ID  QUALITY  POSITION_X  \\\n",
       "0           20210521_LGK.csv    7602    ID7602        14   21.308     507.972   \n",
       "1           20210521_LGK.csv    8594    ID8594        14   17.274     504.913   \n",
       "2           20210521_LGK.csv    8706    ID8706        14   16.308     503.074   \n",
       "3           20210521_LGK.csv    9049    ID9049        14   15.541     502.365   \n",
       "4           20210521_LGK.csv    8196    ID8196        14   14.889     502.322   \n",
       "...                      ...     ...       ...       ...      ...         ...   \n",
       "54454  20210709_LGK_ctrl.csv  318544  ID318544      4539   -1.000     311.938   \n",
       "54455  20210709_LGK_ctrl.csv  318540  ID318540      4539   -1.000     310.300   \n",
       "54456  20210709_LGK_ctrl.csv  318536  ID318536      4539   -1.000     311.002   \n",
       "54457  20210709_LGK_ctrl.csv  318532  ID318532      4539   -1.000     310.300   \n",
       "54458  20210709_LGK_ctrl.csv  318528  ID318528      4539   -1.000     312.173   \n",
       "\n",
       "       POSITION_Y  POSITION_Z  POSITION_T  FRAME  ...  \\\n",
       "0          64.268      14.848           0      0  ...   \n",
       "1          62.340      15.260         120      1  ...   \n",
       "2          62.246      17.206         240      2  ...   \n",
       "3          62.150      16.643         360      3  ...   \n",
       "4          62.795      19.731         480      4  ...   \n",
       "...           ...         ...         ...    ...  ...   \n",
       "54454      26.336      70.000         115    115  ...   \n",
       "54455      25.049      70.000         116    116  ...   \n",
       "54456      26.336      70.000         117    117  ...   \n",
       "54457      25.751      70.000         118    118  ...   \n",
       "54458      26.570      70.000         119    119  ...   \n",
       "\n",
       "       cumulative_distance_xyz  cumulative_distance_z    end_x    end_y  \\\n",
       "0                     0.000000                  0.000  520.111  658.826   \n",
       "1                     3.639287                  0.412  520.111  658.826   \n",
       "2                     6.318405                  2.358  520.111  658.826   \n",
       "3                     7.228826                  2.921  520.111  658.826   \n",
       "4                    10.383761                  6.009  520.111  658.826   \n",
       "...                        ...                    ...      ...      ...   \n",
       "54454               170.546531                 47.500  312.173  692.790   \n",
       "54455               172.629657                 47.500  312.173  692.790   \n",
       "54456               174.095663                 47.500  312.173  692.790   \n",
       "54457               175.009462                 47.500  312.173  692.790   \n",
       "54458               177.053696                 47.500  312.173  692.790   \n",
       "\n",
       "       end_z  end_t  Live_dead  origin_class  end_class  Experiment  \n",
       "0      21.23  238.0      Alive         crypt      crypt         LGK  \n",
       "1      21.23  238.0      Alive         crypt      crypt         LGK  \n",
       "2      21.23  238.0      Alive         crypt      crypt         LGK  \n",
       "3      21.23  238.0      Alive         crypt      crypt         LGK  \n",
       "4      21.23  238.0      Alive         crypt      crypt         LGK  \n",
       "...      ...    ...        ...           ...        ...         ...  \n",
       "54454  70.00  238.0      Alive         crypt      crypt    LGK_ctrl  \n",
       "54455  70.00  238.0      Alive         crypt      crypt    LGK_ctrl  \n",
       "54456  70.00  238.0      Alive         crypt      crypt    LGK_ctrl  \n",
       "54457  70.00  238.0      Alive         crypt      crypt    LGK_ctrl  \n",
       "54458  70.00  238.0      Alive         crypt      crypt    LGK_ctrl  \n",
       "\n",
       "[54459 rows x 51 columns]"
      ]
     },
     "execution_count": 7,
     "metadata": {},
     "output_type": "execute_result"
    }
   ],
   "source": [
    "cell_df"
   ]
  },
  {
   "cell_type": "code",
   "execution_count": 8,
   "id": "98c19097",
   "metadata": {
    "ExecuteTime": {
     "end_time": "2022-04-20T13:17:59.600607Z",
     "start_time": "2022-04-20T13:17:59.535217Z"
    }
   },
   "outputs": [],
   "source": [
    "# Correct for imaging starting time after seeding\n",
    "fastest_time = 0\n",
    "cell_df['t_raw'] = cell_df['t']\n",
    "cell_df['t'] = [t+experiments[f]['Start'] if (experiments[f]['Start']%2)==0 else t+experiments[f]['Start']+1 for f, t in cell_df[['Name', 't']].values] #make sure that all t-values are even (otherwise results in crazy fluctuations)\n",
    "\n",
    "cell_df['z_crypt'] = [z-experiments[f]['Crypt'] for f, z in cell_df[['Name', 'z']].values]"
   ]
  },
  {
   "cell_type": "code",
   "execution_count": 9,
   "id": "d3d1c210",
   "metadata": {
    "ExecuteTime": {
     "end_time": "2022-04-20T13:18:11.089211Z",
     "start_time": "2022-04-20T13:18:06.965547Z"
    }
   },
   "outputs": [
    {
     "name": "stdout",
     "output_type": "stream",
     "text": [
      "20210709_LGK_ctrl.csv\n",
      "116\n"
     ]
    }
   ],
   "source": [
    "measures = ['distance_z', 'z', 'difference_from_origin_z', 'distance_xy', 'distance_xyz']\n",
    "\n",
    "for measure in measures:\n",
    "    cell_df['{}_fit'.format(measure)] = np.nan\n",
    "    \n",
    "deg = 20\n",
    "for ix, e in enumerate(cell_df['Name'].unique()):\n",
    "    tmp = cell_df[cell_df['Name']==e]\n",
    "    for track in set(tmp['track_reindexed']):\n",
    "        tmp2 = tmp[tmp['track_reindexed']==track]\n",
    "        t = tmp2['t'].values\n",
    "        for measure in measures:\n",
    "            z = tmp2[measure].values\n",
    "            z_fit = np.poly1d(np.polyfit(x = t, y = z, deg = deg))(t)\n",
    "            cell_df.loc[tmp2.index, '{}_fit'.format(measure)] = z_fit\n",
    "            \n",
    "            #print('{}/{}'.format(ix, len(cell_df['Name'].unique())))\n",
    "            print(e)\n",
    "            print(track)\n",
    "            clear_output(wait = True)\n",
    "            \n",
    "cell_df['distance_from_origin_z'] = cell_df['difference_from_origin_z']"
   ]
  },
  {
   "cell_type": "markdown",
   "id": "f303f5b7",
   "metadata": {},
   "source": [
    "# Save combined dataset"
   ]
  },
  {
   "cell_type": "code",
   "execution_count": 10,
   "id": "57014de3",
   "metadata": {},
   "outputs": [],
   "source": [
    "cell_df.to_csv(os.path.join(path, 'LGK_combined_20211001.csv'))"
   ]
  },
  {
   "cell_type": "markdown",
   "id": "da4d1763",
   "metadata": {},
   "source": [
    "# Make plots"
   ]
  },
  {
   "cell_type": "code",
   "execution_count": 10,
   "id": "3748c414",
   "metadata": {},
   "outputs": [
    {
     "data": {
      "text/plain": [
       "(0.0, 4.0)"
      ]
     },
     "execution_count": 10,
     "metadata": {},
     "output_type": "execute_result"
    },
    {
     "data": {
      "image/png": "[encoded data removed]",
      "text/plain": [
       "<Figure size 432x288 with 1 Axes>"
      ]
     },
     "metadata": {
      "needs_background": "light"
     },
     "output_type": "display_data"
    }
   ],
   "source": [
    "Location = cell_df[(cell_df['FRAME']!=0) & (cell_df['origin_class']=='crypt') & (cell_df['end_class']=='crypt') & (cell_df['Live_dead']=='Alive')]\n",
    "\n",
    "sbn.lineplot(data= Location, x = 't', y = 'distance_z_fit', hue = 'Experiment')\n",
    "plt.xlabel('Time (min)')\n",
    "plt.ylabel('Z distance traveled per timepoint')\n",
    "plt.title('Cell movement in Z-Alive cells-crypt-crypt')\n",
    "plt.xticks(np.arange(0,max(cell_df['t']), 40))\n",
    "plt.xlim([120,300])\n",
    "plt.ylim([0,4])"
   ]
  },
  {
   "cell_type": "code",
   "execution_count": 11,
   "id": "40e1fc6e",
   "metadata": {},
   "outputs": [
    {
     "data": {
      "text/plain": [
       "(0.0, 4.0)"
      ]
     },
     "execution_count": 11,
     "metadata": {},
     "output_type": "execute_result"
    },
    {
     "data": {
      "image/png": "[encoded data removed]",
      "text/plain": [
       "<Figure size 432x288 with 1 Axes>"
      ]
     },
     "metadata": {
      "needs_background": "light"
     },
     "output_type": "display_data"
    }
   ],
   "source": [
    "Location = cell_df[(cell_df['FRAME']!=0) & (cell_df['origin_class']=='crypt') & (cell_df['end_class']=='crypt') & (cell_df['Live_dead']=='Alive')]\n",
    "\n",
    "sbn.lineplot(data= Location, x = 't', y = 'distance_xy_fit', hue = 'Experiment')\n",
    "plt.xlabel('Time (min)')\n",
    "plt.ylabel('XY distance traveled per timepoint')\n",
    "plt.title('Cell movement in XY-Alive cells-crypt-crypt')\n",
    "plt.xticks(np.arange(0,max(cell_df['t']), 40))\n",
    "plt.xlim([120,300])\n",
    "plt.ylim([0,4])"
   ]
  },
  {
   "cell_type": "code",
   "execution_count": 12,
   "id": "795403d2",
   "metadata": {},
   "outputs": [
    {
     "data": {
      "text/plain": [
       "(0.0, 4.0)"
      ]
     },
     "execution_count": 12,
     "metadata": {},
     "output_type": "execute_result"
    },
    {
     "data": {
      "image/png": "[encoded data removed]",
      "text/plain": [
       "<Figure size 432x288 with 1 Axes>"
      ]
     },
     "metadata": {
      "needs_background": "light"
     },
     "output_type": "display_data"
    }
   ],
   "source": [
    "Location = cell_df[(cell_df['FRAME']!=0) & (cell_df['origin_class']=='villi') & (cell_df['end_class']=='villi') & (cell_df['Live_dead']=='Alive')]\n",
    "sbn.lineplot(data= Location, x = 't', y = 'distance_z_fit', hue = 'Experiment')\n",
    "plt.xlabel('Time (min)')\n",
    "plt.ylabel('Z distance traveled per timepoint')\n",
    "plt.title('Cell movement in Z-Alive cells-crypt-crypt')\n",
    "plt.xticks(np.arange(0,max(cell_df['t']), 40))\n",
    "plt.xlim([120,300])\n",
    "plt.ylim([0,4])"
   ]
  },
  {
   "cell_type": "code",
   "execution_count": 13,
   "id": "736bfd6d",
   "metadata": {},
   "outputs": [
    {
     "data": {
      "text/plain": [
       "(0.0, 4.0)"
      ]
     },
     "execution_count": 13,
     "metadata": {},
     "output_type": "execute_result"
    },
    {
     "data": {
      "image/png": "[encoded data removed]",
      "text/plain": [
       "<Figure size 432x288 with 1 Axes>"
      ]
     },
     "metadata": {
      "needs_background": "light"
     },
     "output_type": "display_data"
    }
   ],
   "source": [
    "Location = cell_df[(cell_df['FRAME']!=0) & (cell_df['origin_class']=='villi') & (cell_df['end_class']=='villi') & (cell_df['Live_dead']=='Alive')]\n",
    "sbn.lineplot(data= Location, x = 't', y = 'distance_xy_fit', hue = 'Experiment')\n",
    "plt.xlabel('Time (min)')\n",
    "plt.ylabel('XY distance traveled per timepoint')\n",
    "plt.title('Cell movement in XY-Alive cells-crypt-crypt')\n",
    "plt.xticks(np.arange(0,max(cell_df['t']), 40))\n",
    "plt.xlim([120,300])\n",
    "plt.ylim([0,4])"
   ]
  },
  {
   "cell_type": "code",
   "execution_count": null,
   "id": "554b3817",
   "metadata": {},
   "outputs": [],
   "source": []
  }
 ],
 "metadata": {
  "kernelspec": {
   "display_name": "Python 3 (ipykernel)",
   "language": "python",
   "name": "python3"
  },
  "language_info": {
   "codemirror_mode": {
    "name": "ipython",
    "version": 3
   },
   "file_extension": ".py",
   "mimetype": "text/x-python",
   "name": "python",
   "nbconvert_exporter": "python",
   "pygments_lexer": "ipython3",
   "version": "3.9.7"
  },
  "toc": {
   "base_numbering": 1,
   "nav_menu": {},
   "number_sections": true,
   "sideBar": true,
   "skip_h1_title": false,
   "title_cell": "Table of Contents",
   "title_sidebar": "Contents",
   "toc_cell": false,
   "toc_position": {
    "height": "calc(100% - 180px)",
    "left": "10px",
    "top": "150px",
    "width": "244px"
   },
   "toc_section_display": true,
   "toc_window_display": true
  },
  "varInspector": {
   "cols": {
    "lenName": 16,
    "lenType": 16,
    "lenVar": 40
   },
   "kernels_config": {
    "python": {
     "delete_cmd_postfix": "",
     "delete_cmd_prefix": "del ",
     "library": "var_list.py",
     "varRefreshCmd": "print(var_dic_list())"
    },
    "r": {
     "delete_cmd_postfix": ") ",
     "delete_cmd_prefix": "rm(",
     "library": "var_list.r",
     "varRefreshCmd": "cat(var_dic_list()) "
    }
   },
   "types_to_exclude": [
    "module",
    "function",
    "builtin_function_or_method",
    "instance",
    "_Feature"
   ],
   "window_display": false
  }
 },
 "nbformat": 4,
 "nbformat_minor": 5
}
